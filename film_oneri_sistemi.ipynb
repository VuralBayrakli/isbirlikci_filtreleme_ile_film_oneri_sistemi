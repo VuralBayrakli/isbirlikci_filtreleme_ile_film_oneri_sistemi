{
 "cells": [
  {
   "cell_type": "code",
   "execution_count": 1,
   "id": "475f49d7-e9e2-4824-ac20-2c7afde44448",
   "metadata": {},
   "outputs": [],
   "source": [
    "import pandas as pd\n"
   ]
  },
  {
   "cell_type": "code",
   "execution_count": 2,
   "id": "2c6bde51-3ad3-4e92-a718-febd59125e70",
   "metadata": {},
   "outputs": [],
   "source": [
    "movies = pd.read_csv(\"movies.csv\")"
   ]
  },
  {
   "cell_type": "code",
   "execution_count": 3,
   "id": "9b332fd4-d7fc-4790-a980-bb2afec2226c",
   "metadata": {},
   "outputs": [],
   "source": [
    "import re\n",
    "def clean_title(title):\n",
    "    return re.sub(\"[^a-zA-Z0-9 ]\", \"\", title)\n",
    "# ornek olarak Toy Story (1995) in bu fonksiyona girdi olarak verirsek cikti Toy Story 1995 olur."
   ]
  },
  {
   "cell_type": "code",
   "execution_count": 4,
   "id": "0579af1e-1dc8-4143-97a7-df1e0d5a0c78",
   "metadata": {},
   "outputs": [],
   "source": [
    "movies[\"clean_title\"] = movies[\"title\"].apply(clean_title)"
   ]
  },
  {
   "cell_type": "code",
   "execution_count": 5,
   "id": "75ef9d6a-c7b3-4516-a815-95eb6f9c4efc",
   "metadata": {},
   "outputs": [],
   "source": [
    "from sklearn.feature_extraction.text import TfidfVectorizer"
   ]
  },
  {
   "cell_type": "code",
   "execution_count": 6,
   "id": "3ea562a9-4db4-4740-9796-e38cfaef1f30",
   "metadata": {},
   "outputs": [],
   "source": [
    "vectorizer = TfidfVectorizer(ngram_range=(1,2))\n",
    "tfidf = vectorizer.fit_transform(movies.clean_title)"
   ]
  },
  {
   "cell_type": "markdown",
   "id": "7d798b78-bad9-4d89-98d3-8a1e2f4dbc5a",
   "metadata": {},
   "source": [
    "# Arama fonksiyonu"
   ]
  },
  {
   "cell_type": "code",
   "execution_count": 7,
   "id": "9ed05e02-5da2-4d80-898e-1c70c4a63b76",
   "metadata": {},
   "outputs": [],
   "source": [
    "from sklearn.metrics.pairwise import cosine_similarity\n",
    "\n",
    "import numpy as np\n",
    "\n",
    "#ornek olarak toy story 1995 i arayalim\n",
    "title = \"toy story 1995\"\n",
    "title = clean_title(title)\n",
    "query_vec = vectorizer.transform([title])\n",
    "similarity = cosine_similarity(query_vec, tfidf).flatten()"
   ]
  },
  {
   "cell_type": "code",
   "execution_count": 8,
   "id": "e9bd3537-3190-4692-8712-dacf7f1c7bf0",
   "metadata": {},
   "outputs": [
    {
     "data": {
      "text/plain": [
       "array([0.52364649, 0.47886319, 0.56091516, 0.30818288, 0.29475734])"
      ]
     },
     "execution_count": 8,
     "metadata": {},
     "output_type": "execute_result"
    }
   ],
   "source": [
    "query_vec.data"
   ]
  },
  {
   "cell_type": "code",
   "execution_count": 9,
   "id": "5f700fb5-b0b0-40d5-9339-4e71649d3e06",
   "metadata": {},
   "outputs": [
    {
     "data": {
      "text/plain": [
       "array([1.        , 0.09681098, 0.06531543, ..., 0.        , 0.        ,\n",
       "       0.        ])"
      ]
     },
     "execution_count": 9,
     "metadata": {},
     "output_type": "execute_result"
    }
   ],
   "source": [
    "'''\n",
    "similarity toy story 1995 in butun filmlerle olan benzerligi oranidir.\n",
    "'''\n",
    "similarity"
   ]
  },
  {
   "cell_type": "code",
   "execution_count": 10,
   "id": "195e9aa5-12c1-4172-8e65-d06fdbdff6ab",
   "metadata": {},
   "outputs": [
    {
     "data": {
      "text/html": [
       "<div>\n",
       "<style scoped>\n",
       "    .dataframe tbody tr th:only-of-type {\n",
       "        vertical-align: middle;\n",
       "    }\n",
       "\n",
       "    .dataframe tbody tr th {\n",
       "        vertical-align: top;\n",
       "    }\n",
       "\n",
       "    .dataframe thead th {\n",
       "        text-align: right;\n",
       "    }\n",
       "</style>\n",
       "<table border=\"1\" class=\"dataframe\">\n",
       "  <thead>\n",
       "    <tr style=\"text-align: right;\">\n",
       "      <th></th>\n",
       "      <th>movieId</th>\n",
       "      <th>title</th>\n",
       "      <th>genres</th>\n",
       "      <th>clean_title</th>\n",
       "    </tr>\n",
       "  </thead>\n",
       "  <tbody>\n",
       "    <tr>\n",
       "      <th>0</th>\n",
       "      <td>1</td>\n",
       "      <td>Toy Story (1995)</td>\n",
       "      <td>Adventure|Animation|Children|Comedy|Fantasy</td>\n",
       "      <td>Toy Story 1995</td>\n",
       "    </tr>\n",
       "    <tr>\n",
       "      <th>3021</th>\n",
       "      <td>3114</td>\n",
       "      <td>Toy Story 2 (1999)</td>\n",
       "      <td>Adventure|Animation|Children|Comedy|Fantasy</td>\n",
       "      <td>Toy Story 2 1999</td>\n",
       "    </tr>\n",
       "    <tr>\n",
       "      <th>59767</th>\n",
       "      <td>201588</td>\n",
       "      <td>Toy Story 4 (2019)</td>\n",
       "      <td>Adventure|Animation|Children|Comedy</td>\n",
       "      <td>Toy Story 4 2019</td>\n",
       "    </tr>\n",
       "    <tr>\n",
       "      <th>14813</th>\n",
       "      <td>78499</td>\n",
       "      <td>Toy Story 3 (2010)</td>\n",
       "      <td>Adventure|Animation|Children|Comedy|Fantasy|IMAX</td>\n",
       "      <td>Toy Story 3 2010</td>\n",
       "    </tr>\n",
       "    <tr>\n",
       "      <th>20497</th>\n",
       "      <td>106022</td>\n",
       "      <td>Toy Story of Terror (2013)</td>\n",
       "      <td>Animation|Children|Comedy</td>\n",
       "      <td>Toy Story of Terror 2013</td>\n",
       "    </tr>\n",
       "  </tbody>\n",
       "</table>\n",
       "</div>"
      ],
      "text/plain": [
       "       movieId                       title  \\\n",
       "0            1            Toy Story (1995)   \n",
       "3021      3114          Toy Story 2 (1999)   \n",
       "59767   201588          Toy Story 4 (2019)   \n",
       "14813    78499          Toy Story 3 (2010)   \n",
       "20497   106022  Toy Story of Terror (2013)   \n",
       "\n",
       "                                                 genres  \\\n",
       "0           Adventure|Animation|Children|Comedy|Fantasy   \n",
       "3021        Adventure|Animation|Children|Comedy|Fantasy   \n",
       "59767               Adventure|Animation|Children|Comedy   \n",
       "14813  Adventure|Animation|Children|Comedy|Fantasy|IMAX   \n",
       "20497                         Animation|Children|Comedy   \n",
       "\n",
       "                    clean_title  \n",
       "0                Toy Story 1995  \n",
       "3021           Toy Story 2 1999  \n",
       "59767          Toy Story 4 2019  \n",
       "14813          Toy Story 3 2010  \n",
       "20497  Toy Story of Terror 2013  "
      ]
     },
     "execution_count": 10,
     "metadata": {},
     "output_type": "execute_result"
    }
   ],
   "source": [
    "# en yuksek olasiliga sahip 5 film\n",
    "indices = np.argpartition(similarity, -5)[-5:]\n",
    "results = movies.iloc[indices][::-1]# en cok benzeyen film en basta olacak\n",
    "results"
   ]
  },
  {
   "cell_type": "code",
   "execution_count": 11,
   "id": "1ed62fd1",
   "metadata": {},
   "outputs": [],
   "source": [
    "# yukarida yaptiklarimizi fonksiyon olarak duzenliyoruz.\n",
    "def search(title):\n",
    "    title = clean_title(title)\n",
    "    query_vec = vectorizer.transform([title])\n",
    "    similarity = cosine_similarity(query_vec, tfidf).flatten()\n",
    "    indices = np.argpartition(similarity, -5)[-5:]\n",
    "    results = movies.iloc[indices][::-1]# en cok benzeyen film en basta\n",
    "    return results"
   ]
  },
  {
   "cell_type": "markdown",
   "id": "00e11b26-02e7-4f46-82d3-f9973c6dc920",
   "metadata": {},
   "source": [
    "# İnteraktif arama kutusu"
   ]
  },
  {
   "cell_type": "code",
   "execution_count": 12,
   "id": "f7d0795b-2ef2-408e-8b9a-37060b87f8a2",
   "metadata": {},
   "outputs": [
    {
     "data": {
      "application/vnd.jupyter.widget-view+json": {
       "model_id": "79cf6e7143704cc6981b0403725a7748",
       "version_major": 2,
       "version_minor": 0
      },
      "text/plain": [
       "Text(value='', description='Movie Title:')"
      ]
     },
     "metadata": {},
     "output_type": "display_data"
    },
    {
     "data": {
      "application/vnd.jupyter.widget-view+json": {
       "model_id": "7fbd5908d47a42b3b4246862e8364897",
       "version_major": 2,
       "version_minor": 0
      },
      "text/plain": [
       "Output()"
      ]
     },
     "metadata": {},
     "output_type": "display_data"
    }
   ],
   "source": [
    "#!pip install ipywidgets\n",
    "import ipywidgets as widgets\n",
    "from IPython.display import display\n",
    "\n",
    "movie_input = widgets.Text(\n",
    "    value=\"\",\n",
    "    description=\"Movie Title:\",\n",
    "    disabled=False\n",
    ")\n",
    "movie_list = widgets.Output()\n",
    "def on_type(data):\n",
    "    with movie_list:\n",
    "        movie_list.clear_output()\n",
    "        title = data[\"new\"]\n",
    "        \n",
    "        if len(title) > 5:\n",
    "            display(search(title))\n",
    "    \n",
    "movie_input.observe(on_type, names=\"value\")\n",
    "\n",
    "display(movie_input, movie_list)"
   ]
  },
  {
   "cell_type": "markdown",
   "id": "8e6a2108",
   "metadata": {},
   "source": [
    "# Film rating degerleri"
   ]
  },
  {
   "cell_type": "code",
   "execution_count": 13,
   "id": "d8c6f40b",
   "metadata": {},
   "outputs": [
    {
     "data": {
      "text/html": [
       "<div>\n",
       "<style scoped>\n",
       "    .dataframe tbody tr th:only-of-type {\n",
       "        vertical-align: middle;\n",
       "    }\n",
       "\n",
       "    .dataframe tbody tr th {\n",
       "        vertical-align: top;\n",
       "    }\n",
       "\n",
       "    .dataframe thead th {\n",
       "        text-align: right;\n",
       "    }\n",
       "</style>\n",
       "<table border=\"1\" class=\"dataframe\">\n",
       "  <thead>\n",
       "    <tr style=\"text-align: right;\">\n",
       "      <th></th>\n",
       "      <th>userId</th>\n",
       "      <th>movieId</th>\n",
       "      <th>rating</th>\n",
       "      <th>timestamp</th>\n",
       "    </tr>\n",
       "  </thead>\n",
       "  <tbody>\n",
       "    <tr>\n",
       "      <th>0</th>\n",
       "      <td>1</td>\n",
       "      <td>296</td>\n",
       "      <td>5.0</td>\n",
       "      <td>1147880044</td>\n",
       "    </tr>\n",
       "    <tr>\n",
       "      <th>1</th>\n",
       "      <td>1</td>\n",
       "      <td>306</td>\n",
       "      <td>3.5</td>\n",
       "      <td>1147868817</td>\n",
       "    </tr>\n",
       "    <tr>\n",
       "      <th>2</th>\n",
       "      <td>1</td>\n",
       "      <td>307</td>\n",
       "      <td>5.0</td>\n",
       "      <td>1147868828</td>\n",
       "    </tr>\n",
       "    <tr>\n",
       "      <th>3</th>\n",
       "      <td>1</td>\n",
       "      <td>665</td>\n",
       "      <td>5.0</td>\n",
       "      <td>1147878820</td>\n",
       "    </tr>\n",
       "    <tr>\n",
       "      <th>4</th>\n",
       "      <td>1</td>\n",
       "      <td>899</td>\n",
       "      <td>3.5</td>\n",
       "      <td>1147868510</td>\n",
       "    </tr>\n",
       "    <tr>\n",
       "      <th>...</th>\n",
       "      <td>...</td>\n",
       "      <td>...</td>\n",
       "      <td>...</td>\n",
       "      <td>...</td>\n",
       "    </tr>\n",
       "    <tr>\n",
       "      <th>25000090</th>\n",
       "      <td>162541</td>\n",
       "      <td>50872</td>\n",
       "      <td>4.5</td>\n",
       "      <td>1240953372</td>\n",
       "    </tr>\n",
       "    <tr>\n",
       "      <th>25000091</th>\n",
       "      <td>162541</td>\n",
       "      <td>55768</td>\n",
       "      <td>2.5</td>\n",
       "      <td>1240951998</td>\n",
       "    </tr>\n",
       "    <tr>\n",
       "      <th>25000092</th>\n",
       "      <td>162541</td>\n",
       "      <td>56176</td>\n",
       "      <td>2.0</td>\n",
       "      <td>1240950697</td>\n",
       "    </tr>\n",
       "    <tr>\n",
       "      <th>25000093</th>\n",
       "      <td>162541</td>\n",
       "      <td>58559</td>\n",
       "      <td>4.0</td>\n",
       "      <td>1240953434</td>\n",
       "    </tr>\n",
       "    <tr>\n",
       "      <th>25000094</th>\n",
       "      <td>162541</td>\n",
       "      <td>63876</td>\n",
       "      <td>5.0</td>\n",
       "      <td>1240952515</td>\n",
       "    </tr>\n",
       "  </tbody>\n",
       "</table>\n",
       "<p>25000095 rows × 4 columns</p>\n",
       "</div>"
      ],
      "text/plain": [
       "          userId  movieId  rating   timestamp\n",
       "0              1      296     5.0  1147880044\n",
       "1              1      306     3.5  1147868817\n",
       "2              1      307     5.0  1147868828\n",
       "3              1      665     5.0  1147878820\n",
       "4              1      899     3.5  1147868510\n",
       "...          ...      ...     ...         ...\n",
       "25000090  162541    50872     4.5  1240953372\n",
       "25000091  162541    55768     2.5  1240951998\n",
       "25000092  162541    56176     2.0  1240950697\n",
       "25000093  162541    58559     4.0  1240953434\n",
       "25000094  162541    63876     5.0  1240952515\n",
       "\n",
       "[25000095 rows x 4 columns]"
      ]
     },
     "execution_count": 13,
     "metadata": {},
     "output_type": "execute_result"
    }
   ],
   "source": [
    "ratings = pd.read_csv(\"ratings.csv\")\n",
    "ratings"
   ]
  },
  {
   "cell_type": "markdown",
   "id": "e6d3a203",
   "metadata": {},
   "source": [
    "# Ayni filmi seven kisileri bulma"
   ]
  },
  {
   "cell_type": "code",
   "execution_count": 14,
   "id": "27701c04",
   "metadata": {},
   "outputs": [],
   "source": [
    "# movie_id si 1 olan filmi sevenlere bakiyoruz.\n",
    "movie_id = 1"
   ]
  },
  {
   "cell_type": "code",
   "execution_count": 15,
   "id": "211307db",
   "metadata": {},
   "outputs": [],
   "source": [
    "# movie id si 1 olan filmi sevenlerin aliyoruz. fakat rating >= 5 olmak uzere\n",
    "similar_users = ratings[(ratings[\"movieId\"] == movie_id) & (ratings[\"rating\"] >= 5)][\"userId\"].unique()"
   ]
  },
  {
   "cell_type": "code",
   "execution_count": 16,
   "id": "76920733",
   "metadata": {},
   "outputs": [
    {
     "data": {
      "text/plain": [
       "array([    36,     75,     86, ..., 162518, 162519, 162530], dtype=int64)"
      ]
     },
     "execution_count": 16,
     "metadata": {},
     "output_type": "execute_result"
    }
   ],
   "source": [
    "similar_users"
   ]
  },
  {
   "cell_type": "code",
   "execution_count": 17,
   "id": "6eb4fa0b",
   "metadata": {},
   "outputs": [],
   "source": [
    "# yukarida movie id si 1 olan film sevenleri almistik. simdi bu kisilerin sevdigi diger filmlere bakiyoruz.\n",
    "# burada ise rating > 4 sarti koyuyoruz.\n",
    "similar_user_recs = ratings[(ratings[\"userId\"].isin(similar_users)) & (ratings[\"rating\"] > 4)][\"movieId\"]"
   ]
  },
  {
   "cell_type": "code",
   "execution_count": 18,
   "id": "a501575e",
   "metadata": {},
   "outputs": [
    {
     "data": {
      "text/plain": [
       "5101           1\n",
       "5105          34\n",
       "5111         110\n",
       "5114         150\n",
       "5127         260\n",
       "            ... \n",
       "24998388    3706\n",
       "24998389    3735\n",
       "24998391    3763\n",
       "24998392    4187\n",
       "24998393    4321\n",
       "Name: movieId, Length: 912084, dtype: int64"
      ]
     },
     "execution_count": 18,
     "metadata": {},
     "output_type": "execute_result"
    }
   ],
   "source": [
    "similar_user_recs"
   ]
  },
  {
   "cell_type": "code",
   "execution_count": 19,
   "id": "807ab8f9",
   "metadata": {},
   "outputs": [
    {
     "data": {
      "text/plain": [
       "1         13506\n",
       "318        5599\n",
       "260        5464\n",
       "356        4690\n",
       "296        4628\n",
       "          ...  \n",
       "27306         1\n",
       "71732         1\n",
       "4739          1\n",
       "190187        1\n",
       "97957         1\n",
       "Name: movieId, Length: 16797, dtype: int64"
      ]
     },
     "execution_count": 19,
     "metadata": {},
     "output_type": "execute_result"
    }
   ],
   "source": [
    "# movie id si 1 olan filmi 5 rating ile seven \n",
    "# 13506 kisinin diger filmleri sevme dagilimi. \n",
    "# movie id si 1 olan filmi sevenler en cok sirasiyla 318, 260, 360 ve 296 id li filmlere ilgi gosteriyor.\n",
    "similar_user_recs.value_counts()"
   ]
  },
  {
   "cell_type": "code",
   "execution_count": 20,
   "id": "0a59f91f",
   "metadata": {},
   "outputs": [
    {
     "data": {
      "text/plain": [
       "1         1.000000\n",
       "318       0.414556\n",
       "260       0.404561\n",
       "356       0.347253\n",
       "296       0.342663\n",
       "            ...   \n",
       "27306     0.000074\n",
       "71732     0.000074\n",
       "4739      0.000074\n",
       "190187    0.000074\n",
       "97957     0.000074\n",
       "Name: movieId, Length: 16797, dtype: float64"
      ]
     },
     "execution_count": 20,
     "metadata": {},
     "output_type": "execute_result"
    }
   ],
   "source": [
    "# ilgi gosterme oranlari\n",
    "similar_user_recs.value_counts() / len(similar_users)"
   ]
  },
  {
   "cell_type": "code",
   "execution_count": 21,
   "id": "c8ab609e",
   "metadata": {},
   "outputs": [],
   "source": [
    "# en az %10 oranla sevenler\n",
    "similar_user_recs = similar_user_recs.value_counts() / len(similar_users)\n",
    "similar_user_recs = similar_user_recs[similar_user_recs > .1]"
   ]
  },
  {
   "cell_type": "code",
   "execution_count": 22,
   "id": "97fe90e7",
   "metadata": {},
   "outputs": [
    {
     "data": {
      "text/plain": [
       "1       1.000000\n",
       "318     0.414556\n",
       "260     0.404561\n",
       "356     0.347253\n",
       "296     0.342663\n",
       "          ...   \n",
       "1259    0.102991\n",
       "7361    0.101881\n",
       "1206    0.101362\n",
       "1307    0.101066\n",
       "1208    0.100918\n",
       "Name: movieId, Length: 92, dtype: float64"
      ]
     },
     "execution_count": 22,
     "metadata": {},
     "output_type": "execute_result"
    }
   ],
   "source": [
    "similar_user_recs"
   ]
  },
  {
   "cell_type": "markdown",
   "id": "feebbaab",
   "metadata": {},
   "source": [
    "# Bulunan filmlerin butun izleyiciler uzerinde etkisi"
   ]
  },
  {
   "cell_type": "code",
   "execution_count": 23,
   "id": "84874a01",
   "metadata": {},
   "outputs": [],
   "source": [
    "# yukarida movie id si 1 olan filmi sevenlerin en az %10 oranla diger filmleri sevme oranlarini bulduk.\n",
    "# bulunan bu filmleri rating > 4 ile seven butun kisileri buluyoruz. \n",
    "all_users = ratings[(ratings[\"movieId\"].isin(similar_user_recs.index)) & (ratings[\"rating\"] > 4)]"
   ]
  },
  {
   "cell_type": "code",
   "execution_count": 24,
   "id": "3a9d872a",
   "metadata": {},
   "outputs": [
    {
     "data": {
      "text/html": [
       "<div>\n",
       "<style scoped>\n",
       "    .dataframe tbody tr th:only-of-type {\n",
       "        vertical-align: middle;\n",
       "    }\n",
       "\n",
       "    .dataframe tbody tr th {\n",
       "        vertical-align: top;\n",
       "    }\n",
       "\n",
       "    .dataframe thead th {\n",
       "        text-align: right;\n",
       "    }\n",
       "</style>\n",
       "<table border=\"1\" class=\"dataframe\">\n",
       "  <thead>\n",
       "    <tr style=\"text-align: right;\">\n",
       "      <th></th>\n",
       "      <th>userId</th>\n",
       "      <th>movieId</th>\n",
       "      <th>rating</th>\n",
       "      <th>timestamp</th>\n",
       "    </tr>\n",
       "  </thead>\n",
       "  <tbody>\n",
       "    <tr>\n",
       "      <th>0</th>\n",
       "      <td>1</td>\n",
       "      <td>296</td>\n",
       "      <td>5.0</td>\n",
       "      <td>1147880044</td>\n",
       "    </tr>\n",
       "    <tr>\n",
       "      <th>29</th>\n",
       "      <td>1</td>\n",
       "      <td>4973</td>\n",
       "      <td>4.5</td>\n",
       "      <td>1147869080</td>\n",
       "    </tr>\n",
       "    <tr>\n",
       "      <th>36</th>\n",
       "      <td>1</td>\n",
       "      <td>5952</td>\n",
       "      <td>4.0</td>\n",
       "      <td>1147868053</td>\n",
       "    </tr>\n",
       "    <tr>\n",
       "      <th>39</th>\n",
       "      <td>1</td>\n",
       "      <td>6377</td>\n",
       "      <td>4.0</td>\n",
       "      <td>1147868469</td>\n",
       "    </tr>\n",
       "    <tr>\n",
       "      <th>40</th>\n",
       "      <td>1</td>\n",
       "      <td>6539</td>\n",
       "      <td>3.5</td>\n",
       "      <td>1147868461</td>\n",
       "    </tr>\n",
       "    <tr>\n",
       "      <th>...</th>\n",
       "      <td>...</td>\n",
       "      <td>...</td>\n",
       "      <td>...</td>\n",
       "      <td>...</td>\n",
       "    </tr>\n",
       "    <tr>\n",
       "      <th>25000078</th>\n",
       "      <td>162541</td>\n",
       "      <td>7153</td>\n",
       "      <td>5.0</td>\n",
       "      <td>1240952613</td>\n",
       "    </tr>\n",
       "    <tr>\n",
       "      <th>25000081</th>\n",
       "      <td>162541</td>\n",
       "      <td>7361</td>\n",
       "      <td>4.5</td>\n",
       "      <td>1240953484</td>\n",
       "    </tr>\n",
       "    <tr>\n",
       "      <th>25000084</th>\n",
       "      <td>162541</td>\n",
       "      <td>8961</td>\n",
       "      <td>4.0</td>\n",
       "      <td>1240953338</td>\n",
       "    </tr>\n",
       "    <tr>\n",
       "      <th>25000087</th>\n",
       "      <td>162541</td>\n",
       "      <td>33794</td>\n",
       "      <td>4.0</td>\n",
       "      <td>1240951792</td>\n",
       "    </tr>\n",
       "    <tr>\n",
       "      <th>25000093</th>\n",
       "      <td>162541</td>\n",
       "      <td>58559</td>\n",
       "      <td>4.0</td>\n",
       "      <td>1240953434</td>\n",
       "    </tr>\n",
       "  </tbody>\n",
       "</table>\n",
       "<p>3703322 rows × 4 columns</p>\n",
       "</div>"
      ],
      "text/plain": [
       "          userId  movieId  rating   timestamp\n",
       "0              1      296     5.0  1147880044\n",
       "29             1     4973     4.5  1147869080\n",
       "36             1     5952     4.0  1147868053\n",
       "39             1     6377     4.0  1147868469\n",
       "40             1     6539     3.5  1147868461\n",
       "...          ...      ...     ...         ...\n",
       "25000078  162541     7153     5.0  1240952613\n",
       "25000081  162541     7361     4.5  1240953484\n",
       "25000084  162541     8961     4.0  1240953338\n",
       "25000087  162541    33794     4.0  1240951792\n",
       "25000093  162541    58559     4.0  1240953434\n",
       "\n",
       "[3703322 rows x 4 columns]"
      ]
     },
     "execution_count": 24,
     "metadata": {},
     "output_type": "execute_result"
    }
   ],
   "source": [
    "ratings[(ratings[\"movieId\"].isin(similar_user_recs.index))]"
   ]
  },
  {
   "cell_type": "code",
   "execution_count": 25,
   "id": "01fd15af",
   "metadata": {},
   "outputs": [
    {
     "data": {
      "text/html": [
       "<div>\n",
       "<style scoped>\n",
       "    .dataframe tbody tr th:only-of-type {\n",
       "        vertical-align: middle;\n",
       "    }\n",
       "\n",
       "    .dataframe tbody tr th {\n",
       "        vertical-align: top;\n",
       "    }\n",
       "\n",
       "    .dataframe thead th {\n",
       "        text-align: right;\n",
       "    }\n",
       "</style>\n",
       "<table border=\"1\" class=\"dataframe\">\n",
       "  <thead>\n",
       "    <tr style=\"text-align: right;\">\n",
       "      <th></th>\n",
       "      <th>userId</th>\n",
       "      <th>movieId</th>\n",
       "      <th>rating</th>\n",
       "      <th>timestamp</th>\n",
       "    </tr>\n",
       "  </thead>\n",
       "  <tbody>\n",
       "    <tr>\n",
       "      <th>0</th>\n",
       "      <td>1</td>\n",
       "      <td>296</td>\n",
       "      <td>5.0</td>\n",
       "      <td>1147880044</td>\n",
       "    </tr>\n",
       "    <tr>\n",
       "      <th>29</th>\n",
       "      <td>1</td>\n",
       "      <td>4973</td>\n",
       "      <td>4.5</td>\n",
       "      <td>1147869080</td>\n",
       "    </tr>\n",
       "    <tr>\n",
       "      <th>48</th>\n",
       "      <td>1</td>\n",
       "      <td>7361</td>\n",
       "      <td>5.0</td>\n",
       "      <td>1147880055</td>\n",
       "    </tr>\n",
       "    <tr>\n",
       "      <th>72</th>\n",
       "      <td>2</td>\n",
       "      <td>110</td>\n",
       "      <td>5.0</td>\n",
       "      <td>1141416589</td>\n",
       "    </tr>\n",
       "    <tr>\n",
       "      <th>76</th>\n",
       "      <td>2</td>\n",
       "      <td>260</td>\n",
       "      <td>5.0</td>\n",
       "      <td>1141417172</td>\n",
       "    </tr>\n",
       "    <tr>\n",
       "      <th>...</th>\n",
       "      <td>...</td>\n",
       "      <td>...</td>\n",
       "      <td>...</td>\n",
       "      <td>...</td>\n",
       "    </tr>\n",
       "    <tr>\n",
       "      <th>25000055</th>\n",
       "      <td>162541</td>\n",
       "      <td>4973</td>\n",
       "      <td>4.5</td>\n",
       "      <td>1240950790</td>\n",
       "    </tr>\n",
       "    <tr>\n",
       "      <th>25000057</th>\n",
       "      <td>162541</td>\n",
       "      <td>4993</td>\n",
       "      <td>5.0</td>\n",
       "      <td>1240952610</td>\n",
       "    </tr>\n",
       "    <tr>\n",
       "      <th>25000065</th>\n",
       "      <td>162541</td>\n",
       "      <td>5952</td>\n",
       "      <td>5.0</td>\n",
       "      <td>1240952617</td>\n",
       "    </tr>\n",
       "    <tr>\n",
       "      <th>25000078</th>\n",
       "      <td>162541</td>\n",
       "      <td>7153</td>\n",
       "      <td>5.0</td>\n",
       "      <td>1240952613</td>\n",
       "    </tr>\n",
       "    <tr>\n",
       "      <th>25000081</th>\n",
       "      <td>162541</td>\n",
       "      <td>7361</td>\n",
       "      <td>4.5</td>\n",
       "      <td>1240953484</td>\n",
       "    </tr>\n",
       "  </tbody>\n",
       "</table>\n",
       "<p>1521245 rows × 4 columns</p>\n",
       "</div>"
      ],
      "text/plain": [
       "          userId  movieId  rating   timestamp\n",
       "0              1      296     5.0  1147880044\n",
       "29             1     4973     4.5  1147869080\n",
       "48             1     7361     5.0  1147880055\n",
       "72             2      110     5.0  1141416589\n",
       "76             2      260     5.0  1141417172\n",
       "...          ...      ...     ...         ...\n",
       "25000055  162541     4973     4.5  1240950790\n",
       "25000057  162541     4993     5.0  1240952610\n",
       "25000065  162541     5952     5.0  1240952617\n",
       "25000078  162541     7153     5.0  1240952613\n",
       "25000081  162541     7361     4.5  1240953484\n",
       "\n",
       "[1521245 rows x 4 columns]"
      ]
     },
     "execution_count": 25,
     "metadata": {},
     "output_type": "execute_result"
    }
   ],
   "source": [
    "all_users"
   ]
  },
  {
   "cell_type": "code",
   "execution_count": 26,
   "id": "0e1bca7b",
   "metadata": {},
   "outputs": [],
   "source": [
    "all_users_recs = all_users[\"movieId\"].value_counts()/len(all_users[\"userId\"].unique())"
   ]
  },
  {
   "cell_type": "code",
   "execution_count": 27,
   "id": "5bef4b73",
   "metadata": {},
   "outputs": [
    {
     "data": {
      "text/plain": [
       "318      0.345282\n",
       "296      0.287220\n",
       "2571     0.246217\n",
       "356      0.237370\n",
       "593      0.227930\n",
       "           ...   \n",
       "1387     0.047886\n",
       "1307     0.046195\n",
       "745      0.037362\n",
       "78499    0.035445\n",
       "2355     0.025316\n",
       "Name: movieId, Length: 92, dtype: float64"
      ]
     },
     "execution_count": 27,
     "metadata": {},
     "output_type": "execute_result"
    }
   ],
   "source": [
    "all_users_recs"
   ]
  },
  {
   "cell_type": "markdown",
   "id": "59594165",
   "metadata": {},
   "source": [
    "# Oneri skoru hesaplama"
   ]
  },
  {
   "cell_type": "code",
   "execution_count": 28,
   "id": "6e900a85",
   "metadata": {},
   "outputs": [],
   "source": [
    "rec_percentages = pd.concat([similar_user_recs, all_users_recs], axis=1)\n",
    "rec_percentages.columns = [\"similar\", \"all\"]"
   ]
  },
  {
   "cell_type": "code",
   "execution_count": 29,
   "id": "296d871f",
   "metadata": {},
   "outputs": [
    {
     "data": {
      "text/html": [
       "<div>\n",
       "<style scoped>\n",
       "    .dataframe tbody tr th:only-of-type {\n",
       "        vertical-align: middle;\n",
       "    }\n",
       "\n",
       "    .dataframe tbody tr th {\n",
       "        vertical-align: top;\n",
       "    }\n",
       "\n",
       "    .dataframe thead th {\n",
       "        text-align: right;\n",
       "    }\n",
       "</style>\n",
       "<table border=\"1\" class=\"dataframe\">\n",
       "  <thead>\n",
       "    <tr style=\"text-align: right;\">\n",
       "      <th></th>\n",
       "      <th>similar</th>\n",
       "      <th>all</th>\n",
       "    </tr>\n",
       "  </thead>\n",
       "  <tbody>\n",
       "    <tr>\n",
       "      <th>1</th>\n",
       "      <td>1.000000</td>\n",
       "      <td>0.125844</td>\n",
       "    </tr>\n",
       "    <tr>\n",
       "      <th>318</th>\n",
       "      <td>0.414556</td>\n",
       "      <td>0.345282</td>\n",
       "    </tr>\n",
       "    <tr>\n",
       "      <th>260</th>\n",
       "      <td>0.404561</td>\n",
       "      <td>0.224195</td>\n",
       "    </tr>\n",
       "    <tr>\n",
       "      <th>356</th>\n",
       "      <td>0.347253</td>\n",
       "      <td>0.237370</td>\n",
       "    </tr>\n",
       "    <tr>\n",
       "      <th>296</th>\n",
       "      <td>0.342663</td>\n",
       "      <td>0.287220</td>\n",
       "    </tr>\n",
       "    <tr>\n",
       "      <th>...</th>\n",
       "      <td>...</td>\n",
       "      <td>...</td>\n",
       "    </tr>\n",
       "    <tr>\n",
       "      <th>1259</th>\n",
       "      <td>0.102991</td>\n",
       "      <td>0.049349</td>\n",
       "    </tr>\n",
       "    <tr>\n",
       "      <th>7361</th>\n",
       "      <td>0.101881</td>\n",
       "      <td>0.105172</td>\n",
       "    </tr>\n",
       "    <tr>\n",
       "      <th>1206</th>\n",
       "      <td>0.101362</td>\n",
       "      <td>0.087500</td>\n",
       "    </tr>\n",
       "    <tr>\n",
       "      <th>1307</th>\n",
       "      <td>0.101066</td>\n",
       "      <td>0.046195</td>\n",
       "    </tr>\n",
       "    <tr>\n",
       "      <th>1208</th>\n",
       "      <td>0.100918</td>\n",
       "      <td>0.083250</td>\n",
       "    </tr>\n",
       "  </tbody>\n",
       "</table>\n",
       "<p>92 rows × 2 columns</p>\n",
       "</div>"
      ],
      "text/plain": [
       "       similar       all\n",
       "1     1.000000  0.125844\n",
       "318   0.414556  0.345282\n",
       "260   0.404561  0.224195\n",
       "356   0.347253  0.237370\n",
       "296   0.342663  0.287220\n",
       "...        ...       ...\n",
       "1259  0.102991  0.049349\n",
       "7361  0.101881  0.105172\n",
       "1206  0.101362  0.087500\n",
       "1307  0.101066  0.046195\n",
       "1208  0.100918  0.083250\n",
       "\n",
       "[92 rows x 2 columns]"
      ]
     },
     "execution_count": 29,
     "metadata": {},
     "output_type": "execute_result"
    }
   ],
   "source": [
    "rec_percentages"
   ]
  },
  {
   "cell_type": "code",
   "execution_count": 30,
   "id": "1307fdc2",
   "metadata": {},
   "outputs": [],
   "source": [
    "'''\n",
    "skor hesaplarken suna dikkat ediyoruz. ornek olarak movie id si 1 olan bir filmi seven kisilerin %41 i 318 id li filmi\n",
    "de seviyor. fakat butun izleyicilere baktigimizda %34 oraninda sevildigini goruyoruz. bu istedigimiz bir sey degil.\n",
    "sonuc olarak bu iki oranin birbirinden buyuk oranda farkinin olmasini istiyoruz.\n",
    "skor hesaplarken aradaki fark ne kadar buyukse skor da o kadar buyuk olacak.\n",
    "'''\n",
    "rec_percentages[\"score\"] = rec_percentages[\"similar\"] / rec_percentages[\"all\"]"
   ]
  },
  {
   "cell_type": "code",
   "execution_count": 31,
   "id": "1819f9b1",
   "metadata": {},
   "outputs": [],
   "source": [
    "rec_percentages = rec_percentages.sort_values(\"score\", ascending=False)"
   ]
  },
  {
   "cell_type": "code",
   "execution_count": 32,
   "id": "4f821f6e",
   "metadata": {},
   "outputs": [
    {
     "data": {
      "text/html": [
       "<div>\n",
       "<style scoped>\n",
       "    .dataframe tbody tr th:only-of-type {\n",
       "        vertical-align: middle;\n",
       "    }\n",
       "\n",
       "    .dataframe tbody tr th {\n",
       "        vertical-align: top;\n",
       "    }\n",
       "\n",
       "    .dataframe thead th {\n",
       "        text-align: right;\n",
       "    }\n",
       "</style>\n",
       "<table border=\"1\" class=\"dataframe\">\n",
       "  <thead>\n",
       "    <tr style=\"text-align: right;\">\n",
       "      <th></th>\n",
       "      <th>similar</th>\n",
       "      <th>all</th>\n",
       "      <th>score</th>\n",
       "    </tr>\n",
       "  </thead>\n",
       "  <tbody>\n",
       "    <tr>\n",
       "      <th>1</th>\n",
       "      <td>1.000000</td>\n",
       "      <td>0.125844</td>\n",
       "      <td>7.946323</td>\n",
       "    </tr>\n",
       "    <tr>\n",
       "      <th>3114</th>\n",
       "      <td>0.295498</td>\n",
       "      <td>0.054186</td>\n",
       "      <td>5.453383</td>\n",
       "    </tr>\n",
       "    <tr>\n",
       "      <th>2355</th>\n",
       "      <td>0.124685</td>\n",
       "      <td>0.025316</td>\n",
       "      <td>4.925186</td>\n",
       "    </tr>\n",
       "    <tr>\n",
       "      <th>78499</th>\n",
       "      <td>0.138161</td>\n",
       "      <td>0.035445</td>\n",
       "      <td>3.897906</td>\n",
       "    </tr>\n",
       "    <tr>\n",
       "      <th>588</th>\n",
       "      <td>0.233674</td>\n",
       "      <td>0.068117</td>\n",
       "      <td>3.430480</td>\n",
       "    </tr>\n",
       "    <tr>\n",
       "      <th>...</th>\n",
       "      <td>...</td>\n",
       "      <td>...</td>\n",
       "      <td>...</td>\n",
       "    </tr>\n",
       "    <tr>\n",
       "      <th>58559</th>\n",
       "      <td>0.160743</td>\n",
       "      <td>0.147779</td>\n",
       "      <td>1.087725</td>\n",
       "    </tr>\n",
       "    <tr>\n",
       "      <th>79132</th>\n",
       "      <td>0.129424</td>\n",
       "      <td>0.132559</td>\n",
       "      <td>0.976349</td>\n",
       "    </tr>\n",
       "    <tr>\n",
       "      <th>7361</th>\n",
       "      <td>0.101881</td>\n",
       "      <td>0.105172</td>\n",
       "      <td>0.968704</td>\n",
       "    </tr>\n",
       "    <tr>\n",
       "      <th>2959</th>\n",
       "      <td>0.205020</td>\n",
       "      <td>0.218656</td>\n",
       "      <td>0.937638</td>\n",
       "    </tr>\n",
       "    <tr>\n",
       "      <th>4973</th>\n",
       "      <td>0.104694</td>\n",
       "      <td>0.113410</td>\n",
       "      <td>0.923146</td>\n",
       "    </tr>\n",
       "  </tbody>\n",
       "</table>\n",
       "<p>92 rows × 3 columns</p>\n",
       "</div>"
      ],
      "text/plain": [
       "        similar       all     score\n",
       "1      1.000000  0.125844  7.946323\n",
       "3114   0.295498  0.054186  5.453383\n",
       "2355   0.124685  0.025316  4.925186\n",
       "78499  0.138161  0.035445  3.897906\n",
       "588    0.233674  0.068117  3.430480\n",
       "...         ...       ...       ...\n",
       "58559  0.160743  0.147779  1.087725\n",
       "79132  0.129424  0.132559  0.976349\n",
       "7361   0.101881  0.105172  0.968704\n",
       "2959   0.205020  0.218656  0.937638\n",
       "4973   0.104694  0.113410  0.923146\n",
       "\n",
       "[92 rows x 3 columns]"
      ]
     },
     "execution_count": 32,
     "metadata": {},
     "output_type": "execute_result"
    }
   ],
   "source": [
    "rec_percentages"
   ]
  },
  {
   "cell_type": "code",
   "execution_count": 33,
   "id": "9c7dd5cc",
   "metadata": {},
   "outputs": [
    {
     "data": {
      "text/html": [
       "<div>\n",
       "<style scoped>\n",
       "    .dataframe tbody tr th:only-of-type {\n",
       "        vertical-align: middle;\n",
       "    }\n",
       "\n",
       "    .dataframe tbody tr th {\n",
       "        vertical-align: top;\n",
       "    }\n",
       "\n",
       "    .dataframe thead th {\n",
       "        text-align: right;\n",
       "    }\n",
       "</style>\n",
       "<table border=\"1\" class=\"dataframe\">\n",
       "  <thead>\n",
       "    <tr style=\"text-align: right;\">\n",
       "      <th></th>\n",
       "      <th>similar</th>\n",
       "      <th>all</th>\n",
       "      <th>score</th>\n",
       "      <th>movieId</th>\n",
       "      <th>title</th>\n",
       "      <th>genres</th>\n",
       "      <th>clean_title</th>\n",
       "    </tr>\n",
       "  </thead>\n",
       "  <tbody>\n",
       "    <tr>\n",
       "      <th>0</th>\n",
       "      <td>1.000000</td>\n",
       "      <td>0.125844</td>\n",
       "      <td>7.946323</td>\n",
       "      <td>1</td>\n",
       "      <td>Toy Story (1995)</td>\n",
       "      <td>Adventure|Animation|Children|Comedy|Fantasy</td>\n",
       "      <td>Toy Story 1995</td>\n",
       "    </tr>\n",
       "    <tr>\n",
       "      <th>3021</th>\n",
       "      <td>0.295498</td>\n",
       "      <td>0.054186</td>\n",
       "      <td>5.453383</td>\n",
       "      <td>3114</td>\n",
       "      <td>Toy Story 2 (1999)</td>\n",
       "      <td>Adventure|Animation|Children|Comedy|Fantasy</td>\n",
       "      <td>Toy Story 2 1999</td>\n",
       "    </tr>\n",
       "    <tr>\n",
       "      <th>2264</th>\n",
       "      <td>0.124685</td>\n",
       "      <td>0.025316</td>\n",
       "      <td>4.925186</td>\n",
       "      <td>2355</td>\n",
       "      <td>Bug's Life, A (1998)</td>\n",
       "      <td>Adventure|Animation|Children|Comedy</td>\n",
       "      <td>Bugs Life A 1998</td>\n",
       "    </tr>\n",
       "    <tr>\n",
       "      <th>14813</th>\n",
       "      <td>0.138161</td>\n",
       "      <td>0.035445</td>\n",
       "      <td>3.897906</td>\n",
       "      <td>78499</td>\n",
       "      <td>Toy Story 3 (2010)</td>\n",
       "      <td>Adventure|Animation|Children|Comedy|Fantasy|IMAX</td>\n",
       "      <td>Toy Story 3 2010</td>\n",
       "    </tr>\n",
       "    <tr>\n",
       "      <th>580</th>\n",
       "      <td>0.233674</td>\n",
       "      <td>0.068117</td>\n",
       "      <td>3.430480</td>\n",
       "      <td>588</td>\n",
       "      <td>Aladdin (1992)</td>\n",
       "      <td>Adventure|Animation|Children|Comedy|Musical</td>\n",
       "      <td>Aladdin 1992</td>\n",
       "    </tr>\n",
       "    <tr>\n",
       "      <th>587</th>\n",
       "      <td>0.198949</td>\n",
       "      <td>0.060514</td>\n",
       "      <td>3.287671</td>\n",
       "      <td>595</td>\n",
       "      <td>Beauty and the Beast (1991)</td>\n",
       "      <td>Animation|Children|Fantasy|Musical|Romance|IMAX</td>\n",
       "      <td>Beauty and the Beast 1991</td>\n",
       "    </tr>\n",
       "    <tr>\n",
       "      <th>33</th>\n",
       "      <td>0.158226</td>\n",
       "      <td>0.052696</td>\n",
       "      <td>3.002602</td>\n",
       "      <td>34</td>\n",
       "      <td>Babe (1995)</td>\n",
       "      <td>Children|Drama</td>\n",
       "      <td>Babe 1995</td>\n",
       "    </tr>\n",
       "    <tr>\n",
       "      <th>4780</th>\n",
       "      <td>0.210647</td>\n",
       "      <td>0.071444</td>\n",
       "      <td>2.948410</td>\n",
       "      <td>4886</td>\n",
       "      <td>Monsters, Inc. (2001)</td>\n",
       "      <td>Adventure|Animation|Children|Comedy|Fantasy</td>\n",
       "      <td>Monsters Inc 2001</td>\n",
       "    </tr>\n",
       "    <tr>\n",
       "      <th>1047</th>\n",
       "      <td>0.143418</td>\n",
       "      <td>0.049202</td>\n",
       "      <td>2.914882</td>\n",
       "      <td>1073</td>\n",
       "      <td>Willy Wonka &amp; the Chocolate Factory (1971)</td>\n",
       "      <td>Children|Comedy|Fantasy|Musical</td>\n",
       "      <td>Willy Wonka  the Chocolate Factory 1971</td>\n",
       "    </tr>\n",
       "    <tr>\n",
       "      <th>729</th>\n",
       "      <td>0.108322</td>\n",
       "      <td>0.037362</td>\n",
       "      <td>2.899227</td>\n",
       "      <td>745</td>\n",
       "      <td>Wallace &amp; Gromit: A Close Shave (1995)</td>\n",
       "      <td>Animation|Children|Comedy</td>\n",
       "      <td>Wallace  Gromit A Close Shave 1995</td>\n",
       "    </tr>\n",
       "  </tbody>\n",
       "</table>\n",
       "</div>"
      ],
      "text/plain": [
       "        similar       all     score  movieId  \\\n",
       "0      1.000000  0.125844  7.946323        1   \n",
       "3021   0.295498  0.054186  5.453383     3114   \n",
       "2264   0.124685  0.025316  4.925186     2355   \n",
       "14813  0.138161  0.035445  3.897906    78499   \n",
       "580    0.233674  0.068117  3.430480      588   \n",
       "587    0.198949  0.060514  3.287671      595   \n",
       "33     0.158226  0.052696  3.002602       34   \n",
       "4780   0.210647  0.071444  2.948410     4886   \n",
       "1047   0.143418  0.049202  2.914882     1073   \n",
       "729    0.108322  0.037362  2.899227      745   \n",
       "\n",
       "                                            title  \\\n",
       "0                                Toy Story (1995)   \n",
       "3021                           Toy Story 2 (1999)   \n",
       "2264                         Bug's Life, A (1998)   \n",
       "14813                          Toy Story 3 (2010)   \n",
       "580                                Aladdin (1992)   \n",
       "587                   Beauty and the Beast (1991)   \n",
       "33                                    Babe (1995)   \n",
       "4780                        Monsters, Inc. (2001)   \n",
       "1047   Willy Wonka & the Chocolate Factory (1971)   \n",
       "729        Wallace & Gromit: A Close Shave (1995)   \n",
       "\n",
       "                                                 genres  \\\n",
       "0           Adventure|Animation|Children|Comedy|Fantasy   \n",
       "3021        Adventure|Animation|Children|Comedy|Fantasy   \n",
       "2264                Adventure|Animation|Children|Comedy   \n",
       "14813  Adventure|Animation|Children|Comedy|Fantasy|IMAX   \n",
       "580         Adventure|Animation|Children|Comedy|Musical   \n",
       "587     Animation|Children|Fantasy|Musical|Romance|IMAX   \n",
       "33                                       Children|Drama   \n",
       "4780        Adventure|Animation|Children|Comedy|Fantasy   \n",
       "1047                    Children|Comedy|Fantasy|Musical   \n",
       "729                           Animation|Children|Comedy   \n",
       "\n",
       "                                   clean_title  \n",
       "0                               Toy Story 1995  \n",
       "3021                          Toy Story 2 1999  \n",
       "2264                          Bugs Life A 1998  \n",
       "14813                         Toy Story 3 2010  \n",
       "580                               Aladdin 1992  \n",
       "587                  Beauty and the Beast 1991  \n",
       "33                                   Babe 1995  \n",
       "4780                         Monsters Inc 2001  \n",
       "1047   Willy Wonka  the Chocolate Factory 1971  \n",
       "729         Wallace  Gromit A Close Shave 1995  "
      ]
     },
     "execution_count": 33,
     "metadata": {},
     "output_type": "execute_result"
    }
   ],
   "source": [
    "rec_percentages.head(10).merge(movies, left_index=True, right_on=\"movieId\")"
   ]
  },
  {
   "cell_type": "markdown",
   "id": "e567dacc",
   "metadata": {},
   "source": [
    "# Tekrardan oneri fonksiyonu olusturma"
   ]
  },
  {
   "cell_type": "code",
   "execution_count": 34,
   "id": "6f4f73c4",
   "metadata": {},
   "outputs": [],
   "source": [
    "# yukarida yaptiklarimizi fonksiyon haline getiriyoruz.\n",
    "def find_similar_movies(movie_id):\n",
    "    similar_users = ratings[(ratings[\"movieId\"] == movie_id) & (ratings[\"rating\"] >= 5)][\"userId\"].unique()\n",
    "    similar_user_recs = ratings[(ratings[\"userId\"].isin(similar_users)) & (ratings[\"rating\"] > 4)][\"movieId\"]\n",
    "    similar_user_recs = similar_user_recs.value_counts() / len(similar_users)\n",
    "    similar_user_recs = similar_user_recs[similar_user_recs > .1]\n",
    "    all_users = ratings[(ratings[\"movieId\"].isin(similar_user_recs.index)) & (ratings[\"rating\"] > 4)]\n",
    "    all_users_recs = all_users[\"movieId\"].value_counts()/len(all_users[\"userId\"].unique())\n",
    "    rec_percentages = pd.concat([similar_user_recs, all_users_recs], axis=1)\n",
    "    rec_percentages.columns = [\"similar\", \"all\"]\n",
    "    rec_percentages[\"score\"] = rec_percentages[\"similar\"] / rec_percentages[\"all\"]\n",
    "    rec_percentages = rec_percentages.sort_values(\"score\", ascending=False)\n",
    "    return rec_percentages.head(10).merge(movies, left_index=True, right_on=\"movieId\")"
   ]
  },
  {
   "cell_type": "markdown",
   "id": "2b2c00a2",
   "metadata": {},
   "source": [
    "# İnteraktif oneri kutusu olusturma"
   ]
  },
  {
   "cell_type": "code",
   "execution_count": 36,
   "id": "437d4362",
   "metadata": {},
   "outputs": [
    {
     "data": {
      "application/vnd.jupyter.widget-view+json": {
       "model_id": "0d1debfa526645fe9c48e753016b8acf",
       "version_major": 2,
       "version_minor": 0
      },
      "text/plain": [
       "Text(value='', description='Movie Title')"
      ]
     },
     "metadata": {},
     "output_type": "display_data"
    },
    {
     "data": {
      "application/vnd.jupyter.widget-view+json": {
       "model_id": "6ba988f0703a49c08c9abdad35b35bea",
       "version_major": 2,
       "version_minor": 0
      },
      "text/plain": [
       "Output()"
      ]
     },
     "metadata": {},
     "output_type": "display_data"
    }
   ],
   "source": [
    "movie_name_input = widgets.Text(\n",
    "    \n",
    "    description=\"Movie Title\",\n",
    "    disabled=False\n",
    ")\n",
    "\n",
    "recommendation_list = widgets.Output()\n",
    "\n",
    "def on_type(data):\n",
    "    with recommendation_list:\n",
    "        recommendation_list.clear_output()\n",
    "        title=data[\"new\"]\n",
    "        \n",
    "        if len(title) > 5:\n",
    "            results = search(title)\n",
    "            movie_id= results.iloc[0][\"movieId\"]\n",
    "            display(find_similar_movies(movie_id))\n",
    "            \n",
    "movie_name_input.observe(on_type, names=\"value\")\n",
    "display(movie_name_input, recommendation_list)"
   ]
  },
  {
   "cell_type": "code",
   "execution_count": null,
   "id": "e025e017",
   "metadata": {},
   "outputs": [],
   "source": []
  }
 ],
 "metadata": {
  "kernelspec": {
   "display_name": "Python 3 (ipykernel)",
   "language": "python",
   "name": "python3"
  },
  "language_info": {
   "codemirror_mode": {
    "name": "ipython",
    "version": 3
   },
   "file_extension": ".py",
   "mimetype": "text/x-python",
   "name": "python",
   "nbconvert_exporter": "python",
   "pygments_lexer": "ipython3",
   "version": "3.10.9"
  }
 },
 "nbformat": 4,
 "nbformat_minor": 5
}
