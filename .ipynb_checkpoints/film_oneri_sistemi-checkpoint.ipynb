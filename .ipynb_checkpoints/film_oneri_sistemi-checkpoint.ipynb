{
 "cells": [
  {
   "cell_type": "code",
   "execution_count": 51,
   "id": "475f49d7-e9e2-4824-ac20-2c7afde44448",
   "metadata": {},
   "outputs": [],
   "source": [
    "import pandas as pd\n"
   ]
  },
  {
   "cell_type": "code",
   "execution_count": 52,
   "id": "2c6bde51-3ad3-4e92-a718-febd59125e70",
   "metadata": {},
   "outputs": [],
   "source": [
    "movies = pd.read_csv(\"movies.csv\")"
   ]
  },
  {
   "cell_type": "code",
   "execution_count": 53,
   "id": "9b332fd4-d7fc-4790-a980-bb2afec2226c",
   "metadata": {},
   "outputs": [],
   "source": [
    "import re\n",
    "def clean_title(title):\n",
    "    return re.sub(\"[^a-zA-Z0-9 ]\", \"\", title)\n",
    "# ornek olarak Toy Story (1995) in bu fonksiyona girdi olarak verirsek cikti Toy Story 1995 olur."
   ]
  },
  {
   "cell_type": "code",
   "execution_count": 67,
   "id": "ac875954",
   "metadata": {},
   "outputs": [
    {
     "data": {
      "text/html": [
       "<div>\n",
       "<style scoped>\n",
       "    .dataframe tbody tr th:only-of-type {\n",
       "        vertical-align: middle;\n",
       "    }\n",
       "\n",
       "    .dataframe tbody tr th {\n",
       "        vertical-align: top;\n",
       "    }\n",
       "\n",
       "    .dataframe thead th {\n",
       "        text-align: right;\n",
       "    }\n",
       "</style>\n",
       "<table border=\"1\" class=\"dataframe\">\n",
       "  <thead>\n",
       "    <tr style=\"text-align: right;\">\n",
       "      <th></th>\n",
       "      <th>movieId</th>\n",
       "      <th>title</th>\n",
       "      <th>genres</th>\n",
       "      <th>clean_title</th>\n",
       "    </tr>\n",
       "  </thead>\n",
       "  <tbody>\n",
       "    <tr>\n",
       "      <th>57228</th>\n",
       "      <td>195907</td>\n",
       "      <td>Champs-Élysées (1896)</td>\n",
       "      <td>(no genres listed)</td>\n",
       "      <td>Champslyses 1896</td>\n",
       "    </tr>\n",
       "    <tr>\n",
       "      <th>25819</th>\n",
       "      <td>124581</td>\n",
       "      <td>Slow Burn (2000)</td>\n",
       "      <td>Action|Drama|Mystery|Thriller</td>\n",
       "      <td>Slow Burn 2000</td>\n",
       "    </tr>\n",
       "    <tr>\n",
       "      <th>8849</th>\n",
       "      <td>26509</td>\n",
       "      <td>Electric Dreams (1984)</td>\n",
       "      <td>Comedy|Drama|Romance|Sci-Fi</td>\n",
       "      <td>Electric Dreams 1984</td>\n",
       "    </tr>\n",
       "    <tr>\n",
       "      <th>41261</th>\n",
       "      <td>161282</td>\n",
       "      <td>Emma's Chance (2016)</td>\n",
       "      <td>Children|Drama</td>\n",
       "      <td>Emmas Chance 2016</td>\n",
       "    </tr>\n",
       "    <tr>\n",
       "      <th>39336</th>\n",
       "      <td>156966</td>\n",
       "      <td>In Transit (2015)</td>\n",
       "      <td>Documentary</td>\n",
       "      <td>In Transit 2015</td>\n",
       "    </tr>\n",
       "    <tr>\n",
       "      <th>5554</th>\n",
       "      <td>5665</td>\n",
       "      <td>Knockaround Guys (2002)</td>\n",
       "      <td>Action|Comedy|Crime</td>\n",
       "      <td>Knockaround Guys 2002</td>\n",
       "    </tr>\n",
       "    <tr>\n",
       "      <th>61388</th>\n",
       "      <td>205761</td>\n",
       "      <td>Rebirth (2011)</td>\n",
       "      <td>Crime|Drama</td>\n",
       "      <td>Rebirth 2011</td>\n",
       "    </tr>\n",
       "    <tr>\n",
       "      <th>31647</th>\n",
       "      <td>139116</td>\n",
       "      <td>Requiem For The Big East (2014)</td>\n",
       "      <td>Documentary</td>\n",
       "      <td>Requiem For The Big East 2014</td>\n",
       "    </tr>\n",
       "    <tr>\n",
       "      <th>18978</th>\n",
       "      <td>98936</td>\n",
       "      <td>All Blossoms Again: Pedro Costa, Director (Tou...</td>\n",
       "      <td>Documentary</td>\n",
       "      <td>All Blossoms Again Pedro Costa Director Tout r...</td>\n",
       "    </tr>\n",
       "    <tr>\n",
       "      <th>11554</th>\n",
       "      <td>52690</td>\n",
       "      <td>Devil Commands, The (1941)</td>\n",
       "      <td>Horror|Sci-Fi</td>\n",
       "      <td>Devil Commands The 1941</td>\n",
       "    </tr>\n",
       "    <tr>\n",
       "      <th>23456</th>\n",
       "      <td>118113</td>\n",
       "      <td>Swinger, The (1966)</td>\n",
       "      <td>Comedy</td>\n",
       "      <td>Swinger The 1966</td>\n",
       "    </tr>\n",
       "    <tr>\n",
       "      <th>12011</th>\n",
       "      <td>56620</td>\n",
       "      <td>Deaths of Ian Stone, The (2007)</td>\n",
       "      <td>Horror|Thriller</td>\n",
       "      <td>Deaths of Ian Stone The 2007</td>\n",
       "    </tr>\n",
       "    <tr>\n",
       "      <th>42669</th>\n",
       "      <td>164356</td>\n",
       "      <td>Loose Shoes (1980)</td>\n",
       "      <td>Comedy</td>\n",
       "      <td>Loose Shoes 1980</td>\n",
       "    </tr>\n",
       "    <tr>\n",
       "      <th>62120</th>\n",
       "      <td>207976</td>\n",
       "      <td>51 Nevada (2018)</td>\n",
       "      <td>Horror|Sci-Fi</td>\n",
       "      <td>51 Nevada 2018</td>\n",
       "    </tr>\n",
       "    <tr>\n",
       "      <th>59466</th>\n",
       "      <td>200918</td>\n",
       "      <td>Urgences (1988)</td>\n",
       "      <td>Documentary</td>\n",
       "      <td>Urgences 1988</td>\n",
       "    </tr>\n",
       "    <tr>\n",
       "      <th>11196</th>\n",
       "      <td>49110</td>\n",
       "      <td>Mom and Dad Save the World (1992)</td>\n",
       "      <td>Comedy|Sci-Fi</td>\n",
       "      <td>Mom and Dad Save the World 1992</td>\n",
       "    </tr>\n",
       "    <tr>\n",
       "      <th>23169</th>\n",
       "      <td>117328</td>\n",
       "      <td>Les invincibles (2013)</td>\n",
       "      <td>Comedy</td>\n",
       "      <td>Les invincibles 2013</td>\n",
       "    </tr>\n",
       "    <tr>\n",
       "      <th>50037</th>\n",
       "      <td>180139</td>\n",
       "      <td>Nothing Left to Do but Cry (1984)</td>\n",
       "      <td>Comedy</td>\n",
       "      <td>Nothing Left to Do but Cry 1984</td>\n",
       "    </tr>\n",
       "    <tr>\n",
       "      <th>28260</th>\n",
       "      <td>131278</td>\n",
       "      <td>Superdome (1978)</td>\n",
       "      <td>Crime|Drama</td>\n",
       "      <td>Superdome 1978</td>\n",
       "    </tr>\n",
       "    <tr>\n",
       "      <th>5913</th>\n",
       "      <td>6025</td>\n",
       "      <td>CB4 - The Movie (1993)</td>\n",
       "      <td>Comedy</td>\n",
       "      <td>CB4  The Movie 1993</td>\n",
       "    </tr>\n",
       "    <tr>\n",
       "      <th>22585</th>\n",
       "      <td>115682</td>\n",
       "      <td>Winterhawk (1975)</td>\n",
       "      <td>Western</td>\n",
       "      <td>Winterhawk 1975</td>\n",
       "    </tr>\n",
       "    <tr>\n",
       "      <th>32619</th>\n",
       "      <td>141359</td>\n",
       "      <td>Spoiler (1998)</td>\n",
       "      <td>Horror|Sci-Fi|Thriller</td>\n",
       "      <td>Spoiler 1998</td>\n",
       "    </tr>\n",
       "    <tr>\n",
       "      <th>31100</th>\n",
       "      <td>137755</td>\n",
       "      <td>An American Terror (2013)</td>\n",
       "      <td>Drama|Horror</td>\n",
       "      <td>An American Terror 2013</td>\n",
       "    </tr>\n",
       "    <tr>\n",
       "      <th>15227</th>\n",
       "      <td>80424</td>\n",
       "      <td>Western Union (1941)</td>\n",
       "      <td>Western</td>\n",
       "      <td>Western Union 1941</td>\n",
       "    </tr>\n",
       "    <tr>\n",
       "      <th>59487</th>\n",
       "      <td>200970</td>\n",
       "      <td>Charge! (2000)</td>\n",
       "      <td>(no genres listed)</td>\n",
       "      <td>Charge 2000</td>\n",
       "    </tr>\n",
       "  </tbody>\n",
       "</table>\n",
       "</div>"
      ],
      "text/plain": [
       "       movieId                                              title  \\\n",
       "57228   195907                              Champs-Élysées (1896)   \n",
       "25819   124581                                   Slow Burn (2000)   \n",
       "8849     26509                             Electric Dreams (1984)   \n",
       "41261   161282                               Emma's Chance (2016)   \n",
       "39336   156966                                  In Transit (2015)   \n",
       "5554      5665                            Knockaround Guys (2002)   \n",
       "61388   205761                                     Rebirth (2011)   \n",
       "31647   139116                    Requiem For The Big East (2014)   \n",
       "18978    98936  All Blossoms Again: Pedro Costa, Director (Tou...   \n",
       "11554    52690                         Devil Commands, The (1941)   \n",
       "23456   118113                                Swinger, The (1966)   \n",
       "12011    56620                    Deaths of Ian Stone, The (2007)   \n",
       "42669   164356                                 Loose Shoes (1980)   \n",
       "62120   207976                                   51 Nevada (2018)   \n",
       "59466   200918                                    Urgences (1988)   \n",
       "11196    49110                  Mom and Dad Save the World (1992)   \n",
       "23169   117328                             Les invincibles (2013)   \n",
       "50037   180139                  Nothing Left to Do but Cry (1984)   \n",
       "28260   131278                                   Superdome (1978)   \n",
       "5913      6025                             CB4 - The Movie (1993)   \n",
       "22585   115682                                  Winterhawk (1975)   \n",
       "32619   141359                                     Spoiler (1998)   \n",
       "31100   137755                          An American Terror (2013)   \n",
       "15227    80424                               Western Union (1941)   \n",
       "59487   200970                                     Charge! (2000)   \n",
       "\n",
       "                              genres  \\\n",
       "57228             (no genres listed)   \n",
       "25819  Action|Drama|Mystery|Thriller   \n",
       "8849     Comedy|Drama|Romance|Sci-Fi   \n",
       "41261                 Children|Drama   \n",
       "39336                    Documentary   \n",
       "5554             Action|Comedy|Crime   \n",
       "61388                    Crime|Drama   \n",
       "31647                    Documentary   \n",
       "18978                    Documentary   \n",
       "11554                  Horror|Sci-Fi   \n",
       "23456                         Comedy   \n",
       "12011                Horror|Thriller   \n",
       "42669                         Comedy   \n",
       "62120                  Horror|Sci-Fi   \n",
       "59466                    Documentary   \n",
       "11196                  Comedy|Sci-Fi   \n",
       "23169                         Comedy   \n",
       "50037                         Comedy   \n",
       "28260                    Crime|Drama   \n",
       "5913                          Comedy   \n",
       "22585                        Western   \n",
       "32619         Horror|Sci-Fi|Thriller   \n",
       "31100                   Drama|Horror   \n",
       "15227                        Western   \n",
       "59487             (no genres listed)   \n",
       "\n",
       "                                             clean_title  \n",
       "57228                                   Champslyses 1896  \n",
       "25819                                     Slow Burn 2000  \n",
       "8849                                Electric Dreams 1984  \n",
       "41261                                  Emmas Chance 2016  \n",
       "39336                                    In Transit 2015  \n",
       "5554                               Knockaround Guys 2002  \n",
       "61388                                       Rebirth 2011  \n",
       "31647                      Requiem For The Big East 2014  \n",
       "18978  All Blossoms Again Pedro Costa Director Tout r...  \n",
       "11554                            Devil Commands The 1941  \n",
       "23456                                   Swinger The 1966  \n",
       "12011                       Deaths of Ian Stone The 2007  \n",
       "42669                                   Loose Shoes 1980  \n",
       "62120                                     51 Nevada 2018  \n",
       "59466                                      Urgences 1988  \n",
       "11196                    Mom and Dad Save the World 1992  \n",
       "23169                               Les invincibles 2013  \n",
       "50037                    Nothing Left to Do but Cry 1984  \n",
       "28260                                     Superdome 1978  \n",
       "5913                                 CB4  The Movie 1993  \n",
       "22585                                    Winterhawk 1975  \n",
       "32619                                       Spoiler 1998  \n",
       "31100                            An American Terror 2013  \n",
       "15227                                 Western Union 1941  \n",
       "59487                                        Charge 2000  "
      ]
     },
     "execution_count": 67,
     "metadata": {},
     "output_type": "execute_result"
    }
   ],
   "source": [
    "movies.sample(25)"
   ]
  },
  {
   "cell_type": "code",
   "execution_count": 55,
   "id": "0579af1e-1dc8-4143-97a7-df1e0d5a0c78",
   "metadata": {
    "scrolled": true
   },
   "outputs": [],
   "source": [
    "movies[\"clean_title\"] = movies[\"title\"].apply(clean_title)"
   ]
  },
  {
   "cell_type": "code",
   "execution_count": 56,
   "id": "75ef9d6a-c7b3-4516-a815-95eb6f9c4efc",
   "metadata": {},
   "outputs": [],
   "source": [
    "from sklearn.feature_extraction.text import TfidfVectorizer"
   ]
  },
  {
   "cell_type": "code",
   "execution_count": 57,
   "id": "3ea562a9-4db4-4740-9796-e38cfaef1f30",
   "metadata": {},
   "outputs": [],
   "source": [
    "vectorizer = TfidfVectorizer(ngram_range=(1,2))\n",
    "tfidf = vectorizer.fit_transform(movies.clean_title)"
   ]
  },
  {
   "cell_type": "markdown",
   "id": "7d798b78-bad9-4d89-98d3-8a1e2f4dbc5a",
   "metadata": {},
   "source": [
    "# Arama fonksiyonu"
   ]
  },
  {
   "cell_type": "code",
   "execution_count": 58,
   "id": "9ed05e02-5da2-4d80-898e-1c70c4a63b76",
   "metadata": {},
   "outputs": [],
   "source": [
    "from sklearn.metrics.pairwise import cosine_similarity\n",
    "\n",
    "import numpy as np\n",
    "\n",
    "#ornek olarak toy story 1995 i arayalim\n",
    "title = \"toy story 1995\"\n",
    "title = clean_title(title)\n",
    "query_vec = vectorizer.transform([title])\n",
    "similarity = cosine_similarity(query_vec, tfidf).flatten()"
   ]
  },
  {
   "cell_type": "code",
   "execution_count": 59,
   "id": "e9bd3537-3190-4692-8712-dacf7f1c7bf0",
   "metadata": {},
   "outputs": [
    {
     "data": {
      "text/plain": [
       "array([0.52364649, 0.47886319, 0.56091516, 0.30818288, 0.29475734])"
      ]
     },
     "execution_count": 59,
     "metadata": {},
     "output_type": "execute_result"
    }
   ],
   "source": [
    "query_vec.data"
   ]
  },
  {
   "cell_type": "code",
   "execution_count": 60,
   "id": "5f700fb5-b0b0-40d5-9339-4e71649d3e06",
   "metadata": {},
   "outputs": [
    {
     "data": {
      "text/plain": [
       "array([1.        , 0.09681098, 0.06531543, ..., 0.        , 0.        ,\n",
       "       0.        ])"
      ]
     },
     "execution_count": 60,
     "metadata": {},
     "output_type": "execute_result"
    }
   ],
   "source": [
    "'''\n",
    "similarity toy story 1995 in butun filmlerle olan benzerligi oranidir.\n",
    "'''\n",
    "similarity"
   ]
  },
  {
   "cell_type": "code",
   "execution_count": 61,
   "id": "195e9aa5-12c1-4172-8e65-d06fdbdff6ab",
   "metadata": {},
   "outputs": [
    {
     "data": {
      "text/html": [
       "<div>\n",
       "<style scoped>\n",
       "    .dataframe tbody tr th:only-of-type {\n",
       "        vertical-align: middle;\n",
       "    }\n",
       "\n",
       "    .dataframe tbody tr th {\n",
       "        vertical-align: top;\n",
       "    }\n",
       "\n",
       "    .dataframe thead th {\n",
       "        text-align: right;\n",
       "    }\n",
       "</style>\n",
       "<table border=\"1\" class=\"dataframe\">\n",
       "  <thead>\n",
       "    <tr style=\"text-align: right;\">\n",
       "      <th></th>\n",
       "      <th>movieId</th>\n",
       "      <th>title</th>\n",
       "      <th>genres</th>\n",
       "      <th>clean_title</th>\n",
       "    </tr>\n",
       "  </thead>\n",
       "  <tbody>\n",
       "    <tr>\n",
       "      <th>0</th>\n",
       "      <td>1</td>\n",
       "      <td>Toy Story (1995)</td>\n",
       "      <td>Adventure|Animation|Children|Comedy|Fantasy</td>\n",
       "      <td>Toy Story 1995</td>\n",
       "    </tr>\n",
       "    <tr>\n",
       "      <th>3021</th>\n",
       "      <td>3114</td>\n",
       "      <td>Toy Story 2 (1999)</td>\n",
       "      <td>Adventure|Animation|Children|Comedy|Fantasy</td>\n",
       "      <td>Toy Story 2 1999</td>\n",
       "    </tr>\n",
       "    <tr>\n",
       "      <th>59767</th>\n",
       "      <td>201588</td>\n",
       "      <td>Toy Story 4 (2019)</td>\n",
       "      <td>Adventure|Animation|Children|Comedy</td>\n",
       "      <td>Toy Story 4 2019</td>\n",
       "    </tr>\n",
       "    <tr>\n",
       "      <th>14813</th>\n",
       "      <td>78499</td>\n",
       "      <td>Toy Story 3 (2010)</td>\n",
       "      <td>Adventure|Animation|Children|Comedy|Fantasy|IMAX</td>\n",
       "      <td>Toy Story 3 2010</td>\n",
       "    </tr>\n",
       "    <tr>\n",
       "      <th>20497</th>\n",
       "      <td>106022</td>\n",
       "      <td>Toy Story of Terror (2013)</td>\n",
       "      <td>Animation|Children|Comedy</td>\n",
       "      <td>Toy Story of Terror 2013</td>\n",
       "    </tr>\n",
       "  </tbody>\n",
       "</table>\n",
       "</div>"
      ],
      "text/plain": [
       "       movieId                       title  \\\n",
       "0            1            Toy Story (1995)   \n",
       "3021      3114          Toy Story 2 (1999)   \n",
       "59767   201588          Toy Story 4 (2019)   \n",
       "14813    78499          Toy Story 3 (2010)   \n",
       "20497   106022  Toy Story of Terror (2013)   \n",
       "\n",
       "                                                 genres  \\\n",
       "0           Adventure|Animation|Children|Comedy|Fantasy   \n",
       "3021        Adventure|Animation|Children|Comedy|Fantasy   \n",
       "59767               Adventure|Animation|Children|Comedy   \n",
       "14813  Adventure|Animation|Children|Comedy|Fantasy|IMAX   \n",
       "20497                         Animation|Children|Comedy   \n",
       "\n",
       "                    clean_title  \n",
       "0                Toy Story 1995  \n",
       "3021           Toy Story 2 1999  \n",
       "59767          Toy Story 4 2019  \n",
       "14813          Toy Story 3 2010  \n",
       "20497  Toy Story of Terror 2013  "
      ]
     },
     "execution_count": 61,
     "metadata": {},
     "output_type": "execute_result"
    }
   ],
   "source": [
    "# en yuksek olasiliga sahip 5 film\n",
    "indices = np.argpartition(similarity, -5)[-5:]\n",
    "results = movies.iloc[indices][::-1]# en cok benzeyen film en basta olacak\n",
    "results"
   ]
  },
  {
   "cell_type": "code",
   "execution_count": 62,
   "id": "1ed62fd1",
   "metadata": {},
   "outputs": [],
   "source": [
    "# yukarida yaptiklarimizi fonksiyon olarak duzenliyoruz.\n",
    "def search(title):\n",
    "    title = clean_title(title)\n",
    "    query_vec = vectorizer.transform([title])\n",
    "    similarity = cosine_similarity(query_vec, tfidf).flatten()\n",
    "    indices = np.argpartition(similarity, -5)[-5:]\n",
    "    results = movies.iloc[indices][::-1]# en cok benzeyen film en basta\n",
    "    return results"
   ]
  },
  {
   "cell_type": "markdown",
   "id": "00e11b26-02e7-4f46-82d3-f9973c6dc920",
   "metadata": {},
   "source": [
    "# İnteraktif arama kutusu"
   ]
  },
  {
   "cell_type": "code",
   "execution_count": 63,
   "id": "f7d0795b-2ef2-408e-8b9a-37060b87f8a2",
   "metadata": {},
   "outputs": [
    {
     "data": {
      "application/vnd.jupyter.widget-view+json": {
       "model_id": "f515ebf332504e978fdccd82c8b3bbe3",
       "version_major": 2,
       "version_minor": 0
      },
      "text/plain": [
       "Text(value='', description='Movie Title:')"
      ]
     },
     "metadata": {},
     "output_type": "display_data"
    },
    {
     "data": {
      "application/vnd.jupyter.widget-view+json": {
       "model_id": "98f35bced9fe47b6abf87a5522bb6747",
       "version_major": 2,
       "version_minor": 0
      },
      "text/plain": [
       "Output()"
      ]
     },
     "metadata": {},
     "output_type": "display_data"
    }
   ],
   "source": [
    "#!pip install ipywidgets\n",
    "import ipywidgets as widgets\n",
    "from IPython.display import display\n",
    "\n",
    "movie_input = widgets.Text(\n",
    "    value=\"\",\n",
    "    description=\"Movie Title:\",\n",
    "    disabled=False\n",
    ")\n",
    "movie_list = widgets.Output()\n",
    "def on_type(data):\n",
    "    with movie_list:\n",
    "        movie_list.clear_output()\n",
    "        title = data[\"new\"]\n",
    "        \n",
    "        if len(title) > 5:\n",
    "            display(search(title))\n",
    "    \n",
    "movie_input.observe(on_type, names=\"value\")\n",
    "\n",
    "display(movie_input, movie_list)"
   ]
  },
  {
   "cell_type": "markdown",
   "id": "8e6a2108",
   "metadata": {},
   "source": [
    "# Film rating degerleri"
   ]
  },
  {
   "cell_type": "code",
   "execution_count": 69,
   "id": "d8c6f40b",
   "metadata": {},
   "outputs": [
    {
     "data": {
      "text/html": [
       "<div>\n",
       "<style scoped>\n",
       "    .dataframe tbody tr th:only-of-type {\n",
       "        vertical-align: middle;\n",
       "    }\n",
       "\n",
       "    .dataframe tbody tr th {\n",
       "        vertical-align: top;\n",
       "    }\n",
       "\n",
       "    .dataframe thead th {\n",
       "        text-align: right;\n",
       "    }\n",
       "</style>\n",
       "<table border=\"1\" class=\"dataframe\">\n",
       "  <thead>\n",
       "    <tr style=\"text-align: right;\">\n",
       "      <th></th>\n",
       "      <th>userId</th>\n",
       "      <th>movieId</th>\n",
       "      <th>rating</th>\n",
       "      <th>timestamp</th>\n",
       "    </tr>\n",
       "  </thead>\n",
       "  <tbody>\n",
       "    <tr>\n",
       "      <th>9984772</th>\n",
       "      <td>64788</td>\n",
       "      <td>4993</td>\n",
       "      <td>4.0</td>\n",
       "      <td>1567840925</td>\n",
       "    </tr>\n",
       "    <tr>\n",
       "      <th>15615598</th>\n",
       "      <td>101098</td>\n",
       "      <td>109487</td>\n",
       "      <td>2.0</td>\n",
       "      <td>1514571864</td>\n",
       "    </tr>\n",
       "    <tr>\n",
       "      <th>6301076</th>\n",
       "      <td>40853</td>\n",
       "      <td>2889</td>\n",
       "      <td>4.0</td>\n",
       "      <td>1532134144</td>\n",
       "    </tr>\n",
       "    <tr>\n",
       "      <th>11142517</th>\n",
       "      <td>72315</td>\n",
       "      <td>160002</td>\n",
       "      <td>2.0</td>\n",
       "      <td>1466176893</td>\n",
       "    </tr>\n",
       "    <tr>\n",
       "      <th>20483039</th>\n",
       "      <td>133183</td>\n",
       "      <td>3717</td>\n",
       "      <td>4.0</td>\n",
       "      <td>1236600174</td>\n",
       "    </tr>\n",
       "    <tr>\n",
       "      <th>14857284</th>\n",
       "      <td>96261</td>\n",
       "      <td>858</td>\n",
       "      <td>5.0</td>\n",
       "      <td>974071188</td>\n",
       "    </tr>\n",
       "    <tr>\n",
       "      <th>11006776</th>\n",
       "      <td>71545</td>\n",
       "      <td>5171</td>\n",
       "      <td>3.0</td>\n",
       "      <td>1091459198</td>\n",
       "    </tr>\n",
       "    <tr>\n",
       "      <th>3481654</th>\n",
       "      <td>22962</td>\n",
       "      <td>261</td>\n",
       "      <td>3.0</td>\n",
       "      <td>832545352</td>\n",
       "    </tr>\n",
       "    <tr>\n",
       "      <th>17266547</th>\n",
       "      <td>111874</td>\n",
       "      <td>4291</td>\n",
       "      <td>4.0</td>\n",
       "      <td>1194748858</td>\n",
       "    </tr>\n",
       "    <tr>\n",
       "      <th>8636061</th>\n",
       "      <td>56261</td>\n",
       "      <td>2019</td>\n",
       "      <td>4.0</td>\n",
       "      <td>1234899489</td>\n",
       "    </tr>\n",
       "    <tr>\n",
       "      <th>17165706</th>\n",
       "      <td>111231</td>\n",
       "      <td>2571</td>\n",
       "      <td>4.5</td>\n",
       "      <td>1312157988</td>\n",
       "    </tr>\n",
       "    <tr>\n",
       "      <th>11224616</th>\n",
       "      <td>72780</td>\n",
       "      <td>47</td>\n",
       "      <td>2.0</td>\n",
       "      <td>841873390</td>\n",
       "    </tr>\n",
       "    <tr>\n",
       "      <th>3332878</th>\n",
       "      <td>22076</td>\n",
       "      <td>6155</td>\n",
       "      <td>3.0</td>\n",
       "      <td>1127185029</td>\n",
       "    </tr>\n",
       "    <tr>\n",
       "      <th>22459153</th>\n",
       "      <td>146032</td>\n",
       "      <td>40815</td>\n",
       "      <td>3.5</td>\n",
       "      <td>1245104339</td>\n",
       "    </tr>\n",
       "    <tr>\n",
       "      <th>9368163</th>\n",
       "      <td>60971</td>\n",
       "      <td>62511</td>\n",
       "      <td>4.5</td>\n",
       "      <td>1480276690</td>\n",
       "    </tr>\n",
       "    <tr>\n",
       "      <th>13211173</th>\n",
       "      <td>85551</td>\n",
       "      <td>109487</td>\n",
       "      <td>4.5</td>\n",
       "      <td>1446914361</td>\n",
       "    </tr>\n",
       "    <tr>\n",
       "      <th>6208386</th>\n",
       "      <td>40221</td>\n",
       "      <td>50</td>\n",
       "      <td>4.5</td>\n",
       "      <td>1129815074</td>\n",
       "    </tr>\n",
       "    <tr>\n",
       "      <th>6184069</th>\n",
       "      <td>40033</td>\n",
       "      <td>2731</td>\n",
       "      <td>4.0</td>\n",
       "      <td>971135442</td>\n",
       "    </tr>\n",
       "    <tr>\n",
       "      <th>15710162</th>\n",
       "      <td>101710</td>\n",
       "      <td>296</td>\n",
       "      <td>5.0</td>\n",
       "      <td>841215906</td>\n",
       "    </tr>\n",
       "    <tr>\n",
       "      <th>14281226</th>\n",
       "      <td>92465</td>\n",
       "      <td>362</td>\n",
       "      <td>3.5</td>\n",
       "      <td>1184113940</td>\n",
       "    </tr>\n",
       "  </tbody>\n",
       "</table>\n",
       "</div>"
      ],
      "text/plain": [
       "          userId  movieId  rating   timestamp\n",
       "9984772    64788     4993     4.0  1567840925\n",
       "15615598  101098   109487     2.0  1514571864\n",
       "6301076    40853     2889     4.0  1532134144\n",
       "11142517   72315   160002     2.0  1466176893\n",
       "20483039  133183     3717     4.0  1236600174\n",
       "14857284   96261      858     5.0   974071188\n",
       "11006776   71545     5171     3.0  1091459198\n",
       "3481654    22962      261     3.0   832545352\n",
       "17266547  111874     4291     4.0  1194748858\n",
       "8636061    56261     2019     4.0  1234899489\n",
       "17165706  111231     2571     4.5  1312157988\n",
       "11224616   72780       47     2.0   841873390\n",
       "3332878    22076     6155     3.0  1127185029\n",
       "22459153  146032    40815     3.5  1245104339\n",
       "9368163    60971    62511     4.5  1480276690\n",
       "13211173   85551   109487     4.5  1446914361\n",
       "6208386    40221       50     4.5  1129815074\n",
       "6184069    40033     2731     4.0   971135442\n",
       "15710162  101710      296     5.0   841215906\n",
       "14281226   92465      362     3.5  1184113940"
      ]
     },
     "execution_count": 69,
     "metadata": {},
     "output_type": "execute_result"
    }
   ],
   "source": [
    "ratings = pd.read_csv(\"ratings.csv\")\n",
    "ratings.sample(20)"
   ]
  },
  {
   "cell_type": "markdown",
   "id": "e6d3a203",
   "metadata": {},
   "source": [
    "# Ayni filmi seven kisileri bulma"
   ]
  },
  {
   "cell_type": "code",
   "execution_count": null,
   "id": "27701c04",
   "metadata": {},
   "outputs": [],
   "source": [
    "# movie_id si 1 olan filmi sevenlere bakiyoruz.\n",
    "movie_id = 1"
   ]
  },
  {
   "cell_type": "code",
   "execution_count": null,
   "id": "211307db",
   "metadata": {},
   "outputs": [],
   "source": [
    "# movie id si 1 olan filmi sevenlerin aliyoruz. fakat rating >= 5 olmak uzere\n",
    "similar_users = ratings[(ratings[\"movieId\"] == movie_id) & (ratings[\"rating\"] >= 5)][\"userId\"].unique()"
   ]
  },
  {
   "cell_type": "code",
   "execution_count": null,
   "id": "76920733",
   "metadata": {},
   "outputs": [],
   "source": [
    "similar_users"
   ]
  },
  {
   "cell_type": "code",
   "execution_count": 66,
   "id": "6eb4fa0b",
   "metadata": {},
   "outputs": [],
   "source": [
    "# yukarida movie id si 1 olan film sevenleri almistik. simdi bu kisilerin sevdigi diger filmlere bakiyoruz.\n",
    "# burada ise rating > 4 sarti koyuyoruz.\n",
    "similar_user_recs = ratings[(ratings[\"userId\"].isin(similar_users)) & (ratings[\"rating\"] > 4)][\"movieId\"]"
   ]
  },
  {
   "cell_type": "code",
   "execution_count": null,
   "id": "a501575e",
   "metadata": {},
   "outputs": [],
   "source": [
    "similar_user_recs"
   ]
  },
  {
   "cell_type": "code",
   "execution_count": null,
   "id": "807ab8f9",
   "metadata": {},
   "outputs": [],
   "source": [
    "# movie id si 1 olan filmi 5 rating ile seven \n",
    "# 13506 kisinin diger filmleri sevme dagilimi. \n",
    "# movie id si 1 olan filmi sevenler en cok sirasiyla 318, 260, 360 ve 296 id li filmlere ilgi gosteriyor.\n",
    "similar_user_recs.value_counts()"
   ]
  },
  {
   "cell_type": "code",
   "execution_count": null,
   "id": "0a59f91f",
   "metadata": {},
   "outputs": [],
   "source": [
    "# ilgi gosterme oranlari\n",
    "similar_user_recs.value_counts() / len(similar_users)"
   ]
  },
  {
   "cell_type": "code",
   "execution_count": null,
   "id": "c8ab609e",
   "metadata": {},
   "outputs": [],
   "source": [
    "# en az %10 oranla sevenler\n",
    "similar_user_recs = similar_user_recs.value_counts() / len(similar_users)\n",
    "similar_user_recs = similar_user_recs[similar_user_recs > .1]"
   ]
  },
  {
   "cell_type": "code",
   "execution_count": null,
   "id": "97fe90e7",
   "metadata": {},
   "outputs": [],
   "source": [
    "similar_user_recs"
   ]
  },
  {
   "cell_type": "markdown",
   "id": "feebbaab",
   "metadata": {},
   "source": [
    "# Bulunan filmlerin butun izleyiciler uzerinde etkisi"
   ]
  },
  {
   "cell_type": "code",
   "execution_count": null,
   "id": "84874a01",
   "metadata": {},
   "outputs": [],
   "source": [
    "# yukarida movie id si 1 olan filmi sevenlerin en az %10 oranla diger filmleri sevme oranlarini bulduk.\n",
    "# bulunan bu filmleri rating > 4 ile seven butun kisileri buluyoruz. \n",
    "all_users = ratings[(ratings[\"movieId\"].isin(similar_user_recs.index)) & (ratings[\"rating\"] > 4)]"
   ]
  },
  {
   "cell_type": "code",
   "execution_count": null,
   "id": "3a9d872a",
   "metadata": {},
   "outputs": [],
   "source": [
    "ratings[(ratings[\"movieId\"].isin(similar_user_recs.index))]"
   ]
  },
  {
   "cell_type": "code",
   "execution_count": null,
   "id": "01fd15af",
   "metadata": {},
   "outputs": [],
   "source": [
    "all_users"
   ]
  },
  {
   "cell_type": "code",
   "execution_count": null,
   "id": "0e1bca7b",
   "metadata": {},
   "outputs": [],
   "source": [
    "all_users_recs = all_users[\"movieId\"].value_counts()/len(all_users[\"userId\"].unique())"
   ]
  },
  {
   "cell_type": "code",
   "execution_count": null,
   "id": "5bef4b73",
   "metadata": {},
   "outputs": [],
   "source": [
    "all_users_recs"
   ]
  },
  {
   "cell_type": "markdown",
   "id": "59594165",
   "metadata": {},
   "source": [
    "# Oneri skoru hesaplama"
   ]
  },
  {
   "cell_type": "code",
   "execution_count": null,
   "id": "6e900a85",
   "metadata": {},
   "outputs": [],
   "source": [
    "rec_percentages = pd.concat([similar_user_recs, all_users_recs], axis=1)\n",
    "rec_percentages.columns = [\"similar\", \"all\"]"
   ]
  },
  {
   "cell_type": "code",
   "execution_count": null,
   "id": "296d871f",
   "metadata": {},
   "outputs": [],
   "source": [
    "rec_percentages"
   ]
  },
  {
   "cell_type": "code",
   "execution_count": null,
   "id": "1307fdc2",
   "metadata": {},
   "outputs": [],
   "source": [
    "'''\n",
    "skor hesaplarken suna dikkat ediyoruz. ornek olarak movie id si 1 olan bir filmi seven kisilerin %41 i 318 id li filmi\n",
    "de seviyor. fakat butun izleyicilere baktigimizda %34 oraninda sevildigini goruyoruz. bu istedigimiz bir sey degil.\n",
    "sonuc olarak bu iki oranin birbirinden buyuk oranda farkinin olmasini istiyoruz.\n",
    "skor hesaplarken aradaki fark ne kadar buyukse skor da o kadar buyuk olacak.\n",
    "'''\n",
    "rec_percentages[\"score\"] = rec_percentages[\"similar\"] / rec_percentages[\"all\"]"
   ]
  },
  {
   "cell_type": "code",
   "execution_count": null,
   "id": "1819f9b1",
   "metadata": {},
   "outputs": [],
   "source": [
    "rec_percentages = rec_percentages.sort_values(\"score\", ascending=False)"
   ]
  },
  {
   "cell_type": "code",
   "execution_count": null,
   "id": "4f821f6e",
   "metadata": {},
   "outputs": [],
   "source": [
    "rec_percentages"
   ]
  },
  {
   "cell_type": "code",
   "execution_count": null,
   "id": "9c7dd5cc",
   "metadata": {},
   "outputs": [],
   "source": [
    "rec_percentages.head(10).merge(movies, left_index=True, right_on=\"movieId\")"
   ]
  },
  {
   "cell_type": "markdown",
   "id": "e567dacc",
   "metadata": {},
   "source": [
    "# Tekrardan oneri fonksiyonu olusturma"
   ]
  },
  {
   "cell_type": "code",
   "execution_count": null,
   "id": "6f4f73c4",
   "metadata": {},
   "outputs": [],
   "source": [
    "# yukarida yaptiklarimizi fonksiyon haline getiriyoruz.\n",
    "def find_similar_movies(movie_id):\n",
    "    similar_users = ratings[(ratings[\"movieId\"] == movie_id) & (ratings[\"rating\"] >= 5)][\"userId\"].unique()\n",
    "    similar_user_recs = ratings[(ratings[\"userId\"].isin(similar_users)) & (ratings[\"rating\"] > 4)][\"movieId\"]\n",
    "    similar_user_recs = similar_user_recs.value_counts() / len(similar_users)\n",
    "    similar_user_recs = similar_user_recs[similar_user_recs > .1]\n",
    "    all_users = ratings[(ratings[\"movieId\"].isin(similar_user_recs.index)) & (ratings[\"rating\"] > 4)]\n",
    "    all_users_recs = all_users[\"movieId\"].value_counts()/len(all_users[\"userId\"].unique())\n",
    "    rec_percentages = pd.concat([similar_user_recs, all_users_recs], axis=1)\n",
    "    rec_percentages.columns = [\"similar\", \"all\"]\n",
    "    rec_percentages[\"score\"] = rec_percentages[\"similar\"] / rec_percentages[\"all\"]\n",
    "    rec_percentages = rec_percentages.sort_values(\"score\", ascending=False)\n",
    "    return rec_percentages.head(10).merge(movies, left_index=True, right_on=\"movieId\")"
   ]
  },
  {
   "cell_type": "markdown",
   "id": "2b2c00a2",
   "metadata": {},
   "source": [
    "# İnteraktif oneri kutusu"
   ]
  },
  {
   "cell_type": "code",
   "execution_count": 70,
   "id": "437d4362",
   "metadata": {},
   "outputs": [
    {
     "data": {
      "application/vnd.jupyter.widget-view+json": {
       "model_id": "f7349f821542446293422fb885e8ef5d",
       "version_major": 2,
       "version_minor": 0
      },
      "text/plain": [
       "Text(value='', description='Movie Title')"
      ]
     },
     "metadata": {},
     "output_type": "display_data"
    },
    {
     "data": {
      "application/vnd.jupyter.widget-view+json": {
       "model_id": "1888088647014a229c844e7aab323177",
       "version_major": 2,
       "version_minor": 0
      },
      "text/plain": [
       "Output()"
      ]
     },
     "metadata": {},
     "output_type": "display_data"
    }
   ],
   "source": [
    "movie_name_input = widgets.Text(\n",
    "    \n",
    "    description=\"Film\",\n",
    "    disabled=False\n",
    ")\n",
    "\n",
    "recommendation_list = widgets.Output()\n",
    "\n",
    "def on_type(data):\n",
    "    with recommendation_list:\n",
    "        recommendation_list.clear_output()\n",
    "        title=data[\"new\"]\n",
    "        \n",
    "        if len(title) > 5:\n",
    "            results = search(title)\n",
    "            movie_id= results.iloc[0][\"movieId\"]\n",
    "            display(find_similar_movies(movie_id))\n",
    "            \n",
    "movie_name_input.observe(on_type, names=\"value\")\n",
    "display(movie_name_input, recommendation_list)"
   ]
  },
  {
   "cell_type": "code",
   "execution_count": null,
   "id": "e025e017",
   "metadata": {},
   "outputs": [],
   "source": []
  },
  {
   "cell_type": "code",
   "execution_count": null,
   "id": "f74159aa",
   "metadata": {},
   "outputs": [],
   "source": []
  },
  {
   "cell_type": "code",
   "execution_count": null,
   "id": "e98538cc",
   "metadata": {},
   "outputs": [],
   "source": []
  },
  {
   "cell_type": "code",
   "execution_count": null,
   "id": "4e722c56",
   "metadata": {},
   "outputs": [],
   "source": []
  },
  {
   "cell_type": "code",
   "execution_count": null,
   "id": "78b6039c",
   "metadata": {},
   "outputs": [],
   "source": []
  },
  {
   "cell_type": "code",
   "execution_count": null,
   "id": "58f0a149",
   "metadata": {},
   "outputs": [],
   "source": []
  },
  {
   "cell_type": "code",
   "execution_count": null,
   "id": "ce51d232",
   "metadata": {},
   "outputs": [],
   "source": []
  },
  {
   "cell_type": "code",
   "execution_count": null,
   "id": "50f56555",
   "metadata": {},
   "outputs": [],
   "source": []
  },
  {
   "cell_type": "code",
   "execution_count": null,
   "id": "49dda4b1",
   "metadata": {},
   "outputs": [],
   "source": []
  },
  {
   "cell_type": "code",
   "execution_count": null,
   "id": "0ca49cf1",
   "metadata": {},
   "outputs": [],
   "source": []
  },
  {
   "cell_type": "code",
   "execution_count": null,
   "id": "f89b57da",
   "metadata": {},
   "outputs": [],
   "source": []
  },
  {
   "cell_type": "code",
   "execution_count": null,
   "id": "40526531",
   "metadata": {},
   "outputs": [],
   "source": []
  }
 ],
 "metadata": {
  "kernelspec": {
   "display_name": "Python 3 (ipykernel)",
   "language": "python",
   "name": "python3"
  },
  "language_info": {
   "codemirror_mode": {
    "name": "ipython",
    "version": 3
   },
   "file_extension": ".py",
   "mimetype": "text/x-python",
   "name": "python",
   "nbconvert_exporter": "python",
   "pygments_lexer": "ipython3",
   "version": "3.10.9"
  }
 },
 "nbformat": 4,
 "nbformat_minor": 5
}
